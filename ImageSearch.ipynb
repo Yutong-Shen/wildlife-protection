{
  "nbformat": 4,
  "nbformat_minor": 0,
  "metadata": {
    "kernelspec": {
      "display_name": "Python 3",
      "language": "python",
      "name": "python3"
    },
    "language_info": {
      "codemirror_mode": {
        "name": "ipython",
        "version": 3
      },
      "file_extension": ".py",
      "mimetype": "text/x-python",
      "name": "python",
      "nbconvert_exporter": "python",
      "pygments_lexer": "ipython3",
      "version": "3.7.6"
    },
    "colab": {
      "name": "ImageSearch.ipynb",
      "provenance": []
    }
  },
  "cells": [
    {
      "cell_type": "code",
      "metadata": {
        "id": "m8OMJ5JUBfjC"
      },
      "source": [
        "# Import all packages, give prompt to pip install any needed packages.\n",
        "\n",
        "try:\n",
        "    import sys\n",
        "    import os\n",
        "    import glob\n",
        "    import requests\n",
        "    import webbrowser\n",
        "    from selenium import webdriver\n",
        "    from PIL import Image\n",
        "    from PIL.ExifTags import TAGS\n",
        "    from PIL.ExifTags import GPSTAGS\n",
        "    \n",
        "except:\n",
        "    print(\"Not all Python dependencies have been installed on this computer.\")\n",
        "    \n",
        "    try:\n",
        "        import os\n",
        "    except:\n",
        "        question = input(\"os is not installed. Do you want to pip install? y/n: \")\n",
        "        if question == \"y\":\n",
        "            !{sys.executable} -m pip install os\n",
        "        else:\n",
        "            print('Program terminated, os needed for operation of program.')\n",
        "            raise SystemExit\n",
        "\n",
        "    try:\n",
        "        import glob\n",
        "    except:\n",
        "        question = input(\"glob is not installed. Do you want to pip install? y/n: \")\n",
        "        if question == \"y\":\n",
        "            !{sys.executable} -m pip install glob\n",
        "        else:\n",
        "            print('Program terminated, glob needed for operation of program.')\n",
        "            sys.exit(1)\n",
        "                \n",
        "    try:\n",
        "        import requests\n",
        "    except:\n",
        "        question = input(\"requests is not installed. Do you want to pip install? y/n: \")\n",
        "        if question == \"y\":\n",
        "            !{sys.executable} -m pip install requests\n",
        "        else:\n",
        "            print('Program terminated, requests needed for operation of program.')\n",
        "            sys.exit(1)\n",
        "                \n",
        "    try:\n",
        "        import webbrowser\n",
        "    except:\n",
        "        question = input(\"webbrowser is not installed. Do you want to pip install? y/n: \")\n",
        "        if question == \"y\":\n",
        "            !{sys.executable} -m pip install webbrowser\n",
        "        else:\n",
        "            print('Program terminated, webbrowser needed for operation of program.')\n",
        "            sys.exit(1)\n",
        "    \n",
        "    try:\n",
        "        from selenium import webdriver\n",
        "\n",
        "    except:\n",
        "        question = input(\"selenium is not installed. Do you want to pip install? y/n: \")\n",
        "        if question == \"y\":\n",
        "            !{sys.executable} -m pip install selenium\n",
        "        else:\n",
        "            print('Program terminated, selenium needed for operation of program.')\n",
        "            sys.exit(1)\n",
        "\n",
        "    try:\n",
        "        from PIL import Image\n",
        "        from PIL.ExifTags import TAGS\n",
        "        from PIL.ExifTags import GPSTAGS\n",
        "    except:\n",
        "        question = input(\"PIL is not installed. Do you want to pip install? y/n: \")\n",
        "        if question == \"y\":\n",
        "            !{sys.executable} -m pip install PIL\n",
        "        else:\n",
        "            print('Program terminated, PIL needed for operation of program.')\n",
        "            sys.exit(1)"
      ],
      "execution_count": null,
      "outputs": []
    },
    {
      "cell_type": "code",
      "metadata": {
        "id": "WsSii-9ABfjE",
        "colab": {
          "base_uri": "https://localhost:8080/"
        },
        "outputId": "fc48535c-d090-4bb6-f32f-38779c1da02e"
      },
      "source": [
        "# find location of chromedriver, or prompt user to install\n",
        "try:\n",
        "    __file__ = 'chromedriver'\n",
        "    chrome_path = os.path.dirname(os.path.realpath(__file__)) +'/'+str(__file__)\n",
        "except:\n",
        "    try:\n",
        "        __file__ = 'chromedriver.exe'\n",
        "        chrome_path = os.path.dirname(os.path.realpath(__file__))+'/'+str(__file__)\n",
        "    except:\n",
        "        raise Exception(\"\"\"Error: Please install Google Chrome and Chromedriver.\n",
        "                         See: https://chromedriver.chromium.org/downloads\n",
        "                         for further details.\"\"\")\n",
        "print(chrome_path)\n",
        "print(\"Chromedriver successfully located\")"
      ],
      "execution_count": null,
      "outputs": [
        {
          "output_type": "stream",
          "text": [
            "/content/chromedriver\n",
            "Chromedriver successfully located\n"
          ],
          "name": "stdout"
        }
      ]
    },
    {
      "cell_type": "code",
      "metadata": {
        "id": "uLB7s97xBfjH"
      },
      "source": [
        "from os import listdir\n",
        "from os.path import isfile, join\n",
        "\n",
        "def get_filepaths(directory):\n",
        "    \"\"\"\n",
        "    This function will generate the file names in a directory \n",
        "    tree by walking the tree either top-down or bottom-up. For each \n",
        "    directory in the tree rooted at directory top (including top itself), \n",
        "    it yields a 3-tuple (dirpath, dirnames, filenames).\n",
        "    \"\"\"\n",
        "    file_paths = []  # List which will store all of the full filepaths.\n",
        "\n",
        "    # Walk the tree.\n",
        "    for root, directories, files in os.walk(directory):\n",
        "        for filename in files:\n",
        "            # Join the two strings in order to form the full filepath.\n",
        "            filepath = os.path.join(root, filename)\n",
        "            file_paths.append(filepath)  # Add it to the list.\n",
        "\n",
        "    return file_paths  # Self-explanatory."
      ],
      "execution_count": null,
      "outputs": []
    },
    {
      "cell_type": "code",
      "metadata": {
        "id": "eCK31LTtBfjH"
      },
      "source": [
        "def get_exif(filename):\n",
        "    '''\n",
        "    Function to get exif data from image.\n",
        "    '''\n",
        "    image = Image.open(filename)\n",
        "    image.verify()\n",
        "    return image._getexif()\n",
        "\n",
        "def get_labeled_exif(exif):\n",
        "    '''\n",
        "    Converts exit data to labelled exif data.\n",
        "    '''\n",
        "    labeled = {}\n",
        "    if not exif:\n",
        "        print(\"No EXIF metadata found\")\n",
        "        return\n",
        "    \n",
        "    for (key, val) in exif.items():\n",
        "        labeled[TAGS.get(key)] = val\n",
        "    return labeled\n",
        "\n",
        "def get_geotagging(exif):\n",
        "    if not exif:\n",
        "        print(\"No EXIF metadata found\")\n",
        "        return\n",
        "    \n",
        "    geotagging = {}\n",
        "    for (idx, tag) in TAGS.items():\n",
        "        if tag == 'GPSInfo':\n",
        "            if idx not in exif:\n",
        "                print(\"No EXIF geotagging found\")\n",
        "                return\n",
        "                \n",
        "            for (key, val) in GPSTAGS.items():\n",
        "                if key in exif[idx]:\n",
        "                    geotagging[val] = exif[idx][key]\n",
        "\n",
        "    return geotagging\n",
        "\n",
        "def get_decimal_from_dms(dms, ref):\n",
        "    '''\n",
        "    Function to convert from dms (degrees, minutes, seconds) to decimal.\n",
        "    '''\n",
        "    degrees = dms[0][0] / dms[0][1]\n",
        "    minutes = dms[1][0] / dms[1][1] / 60.0\n",
        "    seconds = dms[2][0] / dms[2][1] / 3600.0\n",
        "\n",
        "    if ref in ['S', 'W']:\n",
        "        degrees = -degrees\n",
        "        minutes = -minutes\n",
        "        seconds = -seconds\n",
        "\n",
        "    return round(degrees + minutes + seconds, 5)\n",
        "\n",
        "def get_coordinates(geotags):\n",
        "    '''\n",
        "    Function to return the latitude and longitude for where an image was taken,\n",
        "    given the geotag input.\n",
        "    '''\n",
        "    lat = get_decimal_from_dms(geotags['GPSLatitude'], geotags['GPSLatitudeRef'])\n",
        "    lon = get_decimal_from_dms(geotags['GPSLongitude'], geotags['GPSLongitudeRef'])\n",
        "    return (lat,lon)"
      ],
      "execution_count": null,
      "outputs": []
    },
    {
      "cell_type": "code",
      "metadata": {
        "id": "WjfaJ0JYBfjH"
      },
      "source": [
        "# user input of directory of images.\n",
        "folderPath = input('Please enter the filepath of the directory.\\n') # Tell them to drag directory to textbox\n",
        "\n",
        "# format the filepath string to find all images contained in file.\n",
        "#if folderPath[-1] != '/' and folderPath[-1] != '*':\n",
        "#    folderPath += '/*'\n",
        "#elif folderPath[-1] == '/':\n",
        "#    folderPath += '*'\n",
        "    \n",
        "# format the filepath string when inputted in a common incorrect format\n",
        "# (from dragging file to input box in Ubuntu).\n",
        "if 'file://' in folderPath:\n",
        "    folderPath = folderPath.replace('file://','')\n",
        "    \n",
        "#filePathList = glob.glob(folderPath)\n",
        "filePathList = get_filepaths(folderPath)\n",
        "\n",
        "if not filePathList:\n",
        "    raise Exception(\"Error: Folder is empty or doesn't exist. Check that the correct directory has been inputted.\")\n",
        "\n",
        "print(filePathList)"
      ],
      "execution_count": null,
      "outputs": []
    },
    {
      "cell_type": "code",
      "metadata": {
        "id": "PueNYz0GBfjH"
      },
      "source": [
        "from selenium import webdriver\n",
        "from webdriver_manager.chrome import ChromeDriverManager\n",
        "from selenium.webdriver.support import expected_conditions as EC\n",
        "from selenium.webdriver.common.alert import Alert \n",
        "import time\n",
        "\n",
        "urlList = []\n",
        "\n",
        "for i in range(len(filePathList)):\n",
        "    \n",
        "    # reverse image search\n",
        "    filePath = filePathList[i]\n",
        "    searchUrl = 'http://www.google.com/searchbyimage/upload'\n",
        "    multipart = {'encoded_image': (filePath, open(filePath, 'rb')), 'image_content': ''}\n",
        "    response = requests.post(searchUrl, files=multipart, allow_redirects=False)\n",
        "    fetchUrl = response.headers['Location']\n",
        "    #webbrowser.open(fetchUrl)\n",
        "    urlList.append(fetchUrl)\n",
        "    \n",
        "    # Hides selenium window\n",
        "    options = webdriver.ChromeOptions()\n",
        "    options.add_argument('headless')\n",
        "    options.add_argument('window-size=1920x1080')\n",
        "    options.add_argument(\"disable-gpu\")\n",
        "    options.add_experimental_option(\"excludeSwitches\", ['enable-automation'])\n",
        "    \n",
        "    # click on link to show similar images\n",
        "    driver = webdriver.Chrome(ChromeDriverManager().install(), options=options)\n",
        "    # driver = webdriver.Chrome(ChromeDriverManager().install())\n",
        "    driver.get(fetchUrl)\n",
        "    time.sleep(3)\n",
        "    \n",
        "    # Continue past pop-ups\n",
        "    # if EC.alert_is_present():\n",
        "        # alert = driver.switch_to.alert\n",
        "        # alert.accept()\n",
        "    \n",
        "    driver.add_cookie({\"name\": \"key\", \"value\": \"value\"})\n",
        "    driver.find_element_by_xpath(\"\"\"//*[@id=\"Z6bGOb\"]/a\"\"\").click()\n",
        "    \n",
        "    elems = driver.find_elements_by_xpath(\"//a[@class='VFACy kGQAp sMi44c lNHeqe WGvvNb']\") \n",
        "    \n",
        "    print('imagename = ', os.path.basename(filePathList[i]))\n",
        "    print('filepath =', filePathList[i], '\\n')\n",
        "\n",
        "    if len(elems) > 1:\n",
        "        print(len(elems), 'URL links returned from Google Image Search\\n')\n",
        "        for elem in elems:\n",
        "            print(elem.get_attribute(\"href\"))\n",
        "    elif len(elems) == 1:\n",
        "        print(len(elems), 'URL link returned from Google Image Search\\n')\n",
        "        print(elems.get_attribute(\"href\"))\n",
        "    elif not elems:\n",
        "        print('No URL links returned from Google Image Search\\n')\n",
        "\n",
        "    driver.close()\n",
        "    \n",
        "    \n",
        "    exif = get_exif(filePathList[i])\n",
        "    labeled = get_labeled_exif(exif)\n",
        "    geotags = get_geotagging(exif)\n",
        "    print(labeled, '\\n')\n",
        "    \n",
        "    try:\n",
        "        print('Lat, Long = ', get_coordinates(geotags), '\\n')\n",
        "    except:\n",
        "        print('No coordinates found from exif data analysis.\\n')\n",
        "    print('---------------\\n')\n",
        "    \n",
        "    # GET EXIF DATA, Check if the pictures found through the links contain EXIF data\n",
        "    # Gather usernames & other data from results"
      ],
      "execution_count": null,
      "outputs": []
    },
    {
      "cell_type": "code",
      "metadata": {
        "id": "M9vXBR7UBfjH",
        "outputId": "f694f91e-48c0-41a5-9ebe-fcc8708a63d5"
      },
      "source": [
        "exif = get_exif(filePathList[0])\n",
        "labeled = get_labeled_exif(exif)\n",
        "print(labeled)"
      ],
      "execution_count": null,
      "outputs": [
        {
          "output_type": "stream",
          "text": [
            "No EXIF metadata found\n",
            "None\n"
          ],
          "name": "stdout"
        }
      ]
    },
    {
      "cell_type": "code",
      "metadata": {
        "id": "GpQBkeh-BfjI",
        "outputId": "e2de1f0a-9a14-46a7-ac08-dd2ff70cf3fd"
      },
      "source": [
        "try:\n",
        "    exif = get_exif(filePathList[1])\n",
        "    geotags = get_geotagging(exif)\n",
        "    print(geotags)\n",
        "    print('Lat, Long = ', get_coordinates(geotags))\n",
        "except:\n",
        "    print('No EXIF metadata found.')"
      ],
      "execution_count": null,
      "outputs": [
        {
          "output_type": "stream",
          "text": [
            "No EXIF metadata found.\n"
          ],
          "name": "stdout"
        }
      ]
    },
    {
      "cell_type": "code",
      "metadata": {
        "id": "XLc5xsPzBfjI"
      },
      "source": [
        ""
      ],
      "execution_count": null,
      "outputs": []
    },
    {
      "cell_type": "code",
      "metadata": {
        "id": "RG54vD3VBfjI",
        "outputId": "cc7e7418-b88e-4e7a-9aa1-d4bed9f8c7d5"
      },
      "source": [
        "'''\n",
        "Second side project:\n",
        "\n",
        "Goal: To automate access to nomenclature databases to find\n",
        "all new species in the last 5 years for a genus. An\n",
        "automatic Google search can look for potential sales online.\n",
        "'''"
      ],
      "execution_count": null,
      "outputs": [
        {
          "output_type": "execute_result",
          "data": {
            "text/plain": [
              "'\\nSecond side project:\\n\\nGoal: To automate access to nomenclature databases to find\\nall new species in the last 5 years for a genus. An\\nautomatic Google search can look for potential sales online.\\n'"
            ]
          },
          "metadata": {
            "tags": []
          },
          "execution_count": 11
        }
      ]
    },
    {
      "cell_type": "code",
      "metadata": {
        "id": "yPqwIGylBfjJ"
      },
      "source": [
        "import time\n",
        "from selenium import webdriver\n",
        "from selenium.webdriver.common.by import By\n",
        "from selenium.webdriver.support.ui import WebDriverWait\n",
        "from selenium.webdriver.support import expected_conditions as EC\n",
        "from selenium.webdriver.common.keys import Keys\n",
        "\n",
        "\n",
        "\"\"\"\n",
        "TO DO:\n",
        "\n",
        "INSERT PROMPT FOR GENUS AND SPECIES HERE\n",
        "\"\"\"\n",
        "print(\"Please specify the species.\")\n",
        "response = ''\n",
        "while response.lower() not in {\"plant\", \"reptile\", \"amphibian\"}:\n",
        "    response = input(\"Options available:  plant   reptile   amphibian  \")\n",
        "print(\"You selected: \" + response)\n",
        "\n",
        "# category = input('''Currently this software supports searches for plants, reptiles, and amphibians. \n",
        "# Please specify whether the species of interest is a plant, reptile, or amphibian.''')\n",
        "\n",
        "binomial = input('Please input the binomial name (genus and species) of the organism.')\n",
        "\n",
        "# PROMPT YEAR RANGE\n",
        "\n",
        "#category = 'plant'\n",
        "#binomial = 'Paphiopedilum rungsuriyanum'\n",
        "#multiple returns = 'Astragalus'\n",
        "\n",
        "#category = 'reptile'\n",
        "#binomial = 'Antaresia maculosus'\n",
        "\n",
        "#category = 'amphibians'\n",
        "#binomial = 'Andrias davidianus'"
      ],
      "execution_count": null,
      "outputs": []
    },
    {
      "cell_type": "code",
      "metadata": {
        "id": "ED8wTINFoIiR"
      },
      "source": [
        "def print_element(items, true):\r\n",
        "    '''\r\n",
        "    Function to print top 10 elements based on result.\r\n",
        "    '''\r\n",
        "    if true:\r\n",
        "        print('Results found for ' + binomial + \".\")\r\n",
        "    num = len(items)\r\n",
        "    if num > 9:\r\n",
        "        print('Here are the top 10 results:')\r\n",
        "    print('')\r\n",
        "    num = 0\r\n",
        "    for i in items:\r\n",
        "        print(i.text)\r\n",
        "        print('')\r\n",
        "        num += 1\r\n",
        "        if num == 10:\r\n",
        "            break"
      ],
      "execution_count": null,
      "outputs": []
    },
    {
      "cell_type": "code",
      "metadata": {
        "id": "pXfmb1XLBfjJ",
        "outputId": "57363bac-6599-4ad8-a59b-d0bd27b534e9"
      },
      "source": [
        "from webdriver_manager.chrome import ChromeDriverManager\n",
        "browser = webdriver.Chrome(ChromeDriverManager().install())\n",
        "\n",
        "plant_category = ['plant', 'Plant', 'plants', 'Plants', 'plantae', 'Plantae']\n",
        "reptile_category = ['reptile', 'Reptile', 'reptiles', 'Reptiles', 'reptilia', 'Reptilia']\n",
        "amphibian_category = ['amphibian', 'Amphibian', 'amphibians', 'Amphibians', 'amphibia', 'Amphibia']\n",
        "\n",
        "# response belongs to plant category\n",
        "if response in plant_category:\n",
        "    browser.get('https://ipni.org/')\n",
        "    \n",
        "    # click advanced search button\n",
        "    # link = browser.find_element_by_xpath('//*[@id=\"index-container\"]/div/div[1]/div/div[2]/button[2]/span')\n",
        "    link = browser.find_element_by_xpath('//button[@aria-label=\"Advanced Search\"]')\n",
        "    link.click()\n",
        "    \n",
        "    # Load panel\n",
        "    time.sleep(5)\n",
        "\n",
        "    # deal with cookie notification\n",
        "    try:\n",
        "        browser.find_element_by_xpath('/html/body/div[2]/a').click()\n",
        "    except:\n",
        "        pass\n",
        "    \n",
        "    # entry into search boxes and search\n",
        "    genus = browser.find_element_by_id('genus')\n",
        "    species =  browser.find_element_by_id('species')\n",
        "    year = browser.find_element_by_id('published-after')\n",
        "    genus.send_keys(binomial)\n",
        "    # species.send_keys(response)\n",
        "    year.send_keys('2018')\n",
        "    \n",
        "    link = browser.find_element_by_xpath('//*[@id=\"plant\"]/form/button[1]')\n",
        "    link.click()\n",
        "    \n",
        "    # Load results\n",
        "    time.sleep(3)\n",
        "    \n",
        "    # Advanced search failed try direct search\n",
        "    try:\n",
        "        browser.find_element_by_class_name('no-results')\n",
        "        close = browser.find_elements_by_class_name('close')\n",
        "        close = close[:-1]\n",
        "        for item in close:\n",
        "            item.click()\n",
        "            time.sleep(0.5)\n",
        "        search = browser.find_element_by_id('search-tokenfield')\n",
        "        search.send_keys(binomial)\n",
        "        browser.find_element_by_id('search-button').click()\n",
        "        time.sleep(4)\n",
        "    except:\n",
        "        pass\n",
        "    \n",
        "    nprint = True\n",
        "    \n",
        "    # If both searches fail return \"No results.\"\n",
        "    try:\n",
        "        browser.find_element_by_class_name('no-results')\n",
        "        print(\"No results.\")\n",
        "        nprint = False\n",
        "    except:\n",
        "        pass\n",
        "        \n",
        "    elements = browser.find_elements_by_class_name('list-group-item')\n",
        "    print_element(elements, nprint)\n",
        "    browser.close() \n",
        "    \n",
        "    \n",
        "# response belongs to reptile category\n",
        "elif response in reptile_category:\n",
        "    browser.get('http://reptile-database.reptarium.cz/')\n",
        "    browser.find_element_by_link_text('Advanced search').click()\n",
        "\n",
        "    # binomial = \"Afroedura\"\n",
        "    # Load panel\n",
        "    time.sleep(3)\n",
        "    genus = browser.find_element_by_xpath('//input[@name = \"genus\"]')\n",
        "    species = browser.find_element_by_xpath('//input[@name = \"species\"]')\n",
        "    year = browser.find_element_by_xpath('//input[@name = \"year\"]')\n",
        "\n",
        "    # try to fill in advanced search if the binomial is a 2-word input\n",
        "    if len(binomial) == 2:\n",
        "        genus.send_keys(binomial.split()[0])\n",
        "        species.send_keys(binomial.split()[1])\n",
        "    else:\n",
        "        genus.send_keys(binomial)\n",
        "    year.send_keys('2018 OR 2019 OR 2020')\n",
        "    browser.find_element_by_xpath('//input[@value = \"Search\"]').click()\n",
        "    time.sleep(3)\n",
        "\n",
        "    # Advanced search failed try direct search\n",
        "    try:\n",
        "        if browser.find_element_by_xpath('//div[@id = \"content\"]/p[1]').text == \"No species were found.\":\n",
        "            browser.find_element_by_link_text(\"home\").click()\n",
        "            time.sleep(3)\n",
        "            browser.find_element_by_xpath('//input[@name=\"search\"]').send_keys(binomial)\n",
        "            browser.find_element_by_xpath('//input[@value=\"Search\"]').click()\n",
        "            time.sleep(3)\n",
        "    except:\n",
        "        pass\n",
        "\n",
        "    nprint = True\n",
        "\n",
        "    # If both searches fail return \"No result.\"\n",
        "    try:\n",
        "        if browser.find_element_by_xpath('//div[@id=\"content\"]/p').text == \"No species were found.\":\n",
        "            print('No result.')\n",
        "            nprint = False\n",
        "    except:\n",
        "        pass\n",
        "\n",
        "    # try if there is a single result(new page pop up)\n",
        "    try:\n",
        "        if browser.find_element_by_xpath('//div[@id=\"content\"]/h1/em').text == binomial:\n",
        "            print('Result found for ' + binomial + \".\")\n",
        "    except:\n",
        "        pass\n",
        "\n",
        "    # if multiple results, print top 10\n",
        "    elements = browser.find_elements_by_xpath('//div[@id=\"content\"]/ul[2]/li')\n",
        "    print_element(elements, nprint)\n",
        "    browser.close()\n",
        "\n",
        " \n",
        "# response belongs to amphibian category(the web does not have date attribute)   \n",
        "else:\n",
        "    browser.get('https://amphibiaweb.org/')\n",
        "    browser.find_element_by_xpath('//input[@value=\"Search the Database\"]').click()\n",
        "\n",
        "    # binomial = \"Caecilia\"\n",
        "    # Load panel\n",
        "    time.sleep(3)\n",
        "\n",
        "    name = browser.find_element_by_xpath('//*[@id=\"main\"]/table/tbody/tr/td/form/p/table[2]/tbody/tr[1]/td[3]/input')\n",
        "    name.send_keys(binomial)\n",
        "\n",
        "    search = browser.find_element_by_xpath('//*[@id=\"main\"]/table/tbody/tr/td/form/p/table[1]/tbody/tr/td[1]/input[1]')\n",
        "    search.click()\n",
        "    # Load page\n",
        "    time.sleep(3)\n",
        "\n",
        "    nprint = True\n",
        "\n",
        "    # try if there is no result\n",
        "    try:\n",
        "        if browser.find_element_by_xpath('//html/body/blockquote/h2').text == \"Sorry - no matches. Please try again.\":\n",
        "            print('No result.')\n",
        "            nprint = False\n",
        "    except:\n",
        "        pass\n",
        "\n",
        "    # try if there is a single result(new page pop up)\n",
        "    try:\n",
        "        getName = browser.find_element_by_xpath('/html[1]/body[1]/table[1]/tbody[1]'\n",
        "                                            '/tr[2]/td[2]/div[1]/table[1]/tbody[1]/tr[2]/td[1]/i[1]/font[1]').text\n",
        "        if getName == binomial:\n",
        "            print('Result found for ' + binomial + \".\")\n",
        "    except:\n",
        "        pass\n",
        "\n",
        "    # if multiple results, print top 10\n",
        "    elements = browser.find_elements_by_xpath('//div[@id=\"main\"]/p[4]/table/tbody/tr/td[1]/a')\n",
        "    print_element(elements, nprint)\n",
        "    browser.close()\n",
        "    \n",
        "\n",
        "#search = browser.find_element_by_name('q')\n",
        "#search.send_keys(\"google search through python\")\n",
        "#search.send_keys(Keys.RETURN) # hit return after you enter search text\n",
        "#time.sleep(5) # sleep for 5 seconds so you can see the results\n",
        "#browser.quit()"
      ],
      "execution_count": null,
      "outputs": [
        {
          "output_type": "stream",
          "text": [
            "[WDM] - Current google-chrome version is 86.0.4240\n",
            "[WDM] - Get LATEST driver version for 86.0.4240\n",
            "[WDM] - Driver [/Users/user/.wdm/drivers/chromedriver/mac64/86.0.4240.22/chromedriver] found in cache\n"
          ],
          "name": "stderr"
        },
        {
          "output_type": "stream",
          "text": [
            " \n",
            "Antaresia maculosus: No species were found.\n"
          ],
          "name": "stdout"
        }
      ]
    },
    {
      "cell_type": "code",
      "metadata": {
        "id": "T-bYCeqlBfjJ",
        "outputId": "522bca09-3fcf-4591-90e6-5b2b2b59ef93"
      },
      "source": [
        "browser.find_element_by_xpath('//*[@id=\"c-page-body\"]/div[2]').text"
      ],
      "execution_count": null,
      "outputs": [
        {
          "output_type": "execute_result",
          "data": {
            "text/plain": [
              "'Paphiopedilum rungsuriyanum O.Gruss, Rungruang, Chaisur. & Dionisio, OrchideenJ. 21(1): 4, photogrs. (2014).\\nPOWO'"
            ]
          },
          "metadata": {
            "tags": []
          },
          "execution_count": 8
        }
      ]
    },
    {
      "cell_type": "code",
      "metadata": {
        "id": "WSAse9D0BfjJ",
        "outputId": "fd76ef9d-d480-4fd0-9fbe-b28cb9684d6f"
      },
      "source": [
        "browser.find_element_by_class_name('list-group-item').text"
      ],
      "execution_count": null,
      "outputs": [
        {
          "output_type": "execute_result",
          "data": {
            "text/plain": [
              "'Paphiopedilum rungsuriyanum O.Gruss, Rungruang, Chaisur. & Dionisio, OrchideenJ. 21(1): 4, photogrs. (2014).\\nPOWO'"
            ]
          },
          "metadata": {
            "tags": []
          },
          "execution_count": 9
        }
      ]
    },
    {
      "cell_type": "code",
      "metadata": {
        "id": "LvpYZFivBfjJ"
      },
      "source": [
        ""
      ],
      "execution_count": null,
      "outputs": []
    },
    {
      "cell_type": "code",
      "metadata": {
        "id": "8SDKxsaCBfjJ"
      },
      "source": [
        "<input type=\"text\" name=\"genus\" id=\"frm-AdvancedSearchForm-genus\" autocomplete=\"off\" class=\"acInput\">"
      ],
      "execution_count": null,
      "outputs": []
    },
    {
      "cell_type": "code",
      "metadata": {
        "id": "9ns5yELnBfjJ"
      },
      "source": [
        "browser.get('http://reptile-database.reptarium.cz/')\n",
        "link = browser.find_element_by_link_text('Advanced search')\n",
        "link.click()\n",
        "    "
      ],
      "execution_count": null,
      "outputs": []
    },
    {
      "cell_type": "code",
      "metadata": {
        "id": "JR5p8821BfjK"
      },
      "source": [
        ""
      ],
      "execution_count": null,
      "outputs": []
    },
    {
      "cell_type": "code",
      "metadata": {
        "id": "CCYhiKjIBfjK"
      },
      "source": [
        ""
      ],
      "execution_count": null,
      "outputs": []
    },
    {
      "cell_type": "code",
      "metadata": {
        "id": "SceSNXlPBfjK"
      },
      "source": [
        "'''\n",
        "\n",
        "Mostly Nonsense/Test Code Below:\n",
        "\n",
        "\n",
        "'''"
      ],
      "execution_count": null,
      "outputs": []
    },
    {
      "cell_type": "code",
      "metadata": {
        "id": "PC02X37XBfjK"
      },
      "source": [
        "driver = webdriver.Chrome(chrome_path)\n",
        "driver.get(fetchUrl)\n",
        "driver.find_element_by_xpath(\"\"\"//*[@id=\"Z6bGOb\"]/a\"\"\").click()"
      ],
      "execution_count": null,
      "outputs": []
    },
    {
      "cell_type": "code",
      "metadata": {
        "collapsed": true,
        "id": "82ok3mGOBfjK",
        "outputId": "eaed3788-f09d-4ba5-fcd1-c8b79d6c69dc"
      },
      "source": [
        "elements = driver.find_elements_by_class_name('WGvvNb')\n",
        "\n",
        "print('filepath =', filePathList[i])\n",
        "print('URL links from Google Image Search:\\n')\n",
        "\n",
        "for element in elements:\n",
        "    #print(element.text)\n",
        "    print(element.find_element_by_xpath('..').find_element_by_xpath('..').get_attribute('href'))\n",
        "    #print('')\n",
        "\n",
        "if len(elements) > 1:\n",
        "    print(len(elements), 'URL links returned from Google Image Search')\n",
        "elif len(elements = 1):\n",
        "    print(len(elements), 'URL link returned from Google Image Search')\n",
        "elif not elements:\n",
        "    print('No URL links returned from Google Image Search')\n",
        "    print('')\n",
        "    \n",
        "print('---------------')"
      ],
      "execution_count": null,
      "outputs": [
        {
          "output_type": "stream",
          "text": [
            "filepath = /home/sam/Desktop/imageSearch/ele.jpeg\n",
            "URL links from Google Image Search:\n",
            "\n",
            "https://unsplash.com/photos/yaEkTCGc6vY\n",
            "https://www.peter-willekens.be/digitaal-geheugen/\n",
            "https://medium.com/alnasafi/whats-up-elephant-24fdfb596177\n",
            "https://winkreport.com/heres-a-list-of-the-top-10-fastest-creatures-in-the-world/\n",
            "https://www.standard.co.uk/news/world/rhino-poacher-trampled-to-death-by-elephant-then-eaten-by-lions-in-south-africa-a4111301.html\n",
            "https://wells.gop/elephant-tales\n",
            "https://picsart.com/i/image-use-this-296295489058201\n",
            "https://picsart.com/hashtag/elephants/free-to-edit-images\n",
            "https://wujunze.com/2016/2016-04-05-php-out-of-memory/\n",
            "https://www.zaratours.com/\n",
            "https://wells.gop/\n",
            "https://chechewinnie.com/page/2/\n",
            "https://medium.com/alnasafi/whats-up-elephant-24fdfb596177\n",
            "https://unsplash.com/photos/yaEkTCGc6vY\n",
            "https://www.cambodia-guest-house.com/entry/krabi-best-season\n",
            "https://www.peter-willekens.be/digitaal-geheugen/\n",
            "https://unsplash.com/collections/4345341/paint\n",
            "https://upcob.org/\n",
            "https://www.infoqwiki.com/10-facts-knowledge-on-nature-did-you-know/8/\n",
            "https://lmb.informatik.uni-freiburg.de/lectures/seminar_ronneberger/SlidesWS1920/Classification_Accuracy_Score_for_Conditional_Generative_Models.pdf\n",
            "https://unsplash.com/photos/yaEkTCGc6vY\n",
            "https://picsart.com/i/image-use-this-296295489058201\n",
            "https://www.facebook.com/pages/Boumba-Bek-National-Park/111765912173529\n",
            "https://eerdlings.com/2019/10/16/10-most-intelligent-animals/\n",
            "https://www.ivsky.com/tupian/daxiang_v59054/pic_932180.html\n",
            "https://www.peter-willekens.be/digitaal-geheugen/\n",
            "https://zipupandgo.com/10-best-things-to-do-in-thailand/\n",
            "https://leemcking.sg/blog/what-to-do-when-people-put-you-down/\n",
            "https://unsplash.com/photos/BHQrJv34sw4\n",
            "https://unsplash.com/photos/ub1IrHmmuZw\n",
            "https://www.circleofhealingessentialoils.com/totems\n",
            "https://picsart.com/es_es/u/freetoedit/collections/animals-1476008467\n",
            "https://picsart.com/es_es/hashtag/elefante/free-to-edit-images\n",
            "https://livingintheword.org/category/how-to-read-the-bible/\n",
            "http://www.ak186.com/guoji/201904/527127.html\n",
            "https://www.pakistantoday.com.pk/tag/rhinos/\n",
            "https://www.tripadvisor.it/Attraction_Review-g294207-d16787954-Reviews-Safari_Booking-Nairobi.html\n",
            "https://www.piqsels.com/de/search?q=braune+Elefanten\n",
            "https://www.robinage.com/news/indian-species-in-the-list-of-global-protection.htm\n",
            "https://www.123rf.com/stock-photo/family_asian_park.html?orderby=2&oriSearch=family_asian&ch=family%20asian&sti=\n",
            "https://www.oruthuli.com/tag/lesson/\n",
            "41 URL links returned from Google Image Search\n",
            "---------------\n"
          ],
          "name": "stdout"
        }
      ]
    },
    {
      "cell_type": "code",
      "metadata": {
        "id": "Wv4NwA63BfjK",
        "outputId": "a664bc6b-5504-48b3-97d4-52048108a731"
      },
      "source": [
        "text = driver.find_elements_by_class_name('WGvvNb')\n",
        "text.find_elements_by_xpath('..').find_elements_by_xpath('..').get_attribute('href')"
      ],
      "execution_count": null,
      "outputs": [
        {
          "output_type": "error",
          "ename": "AttributeError",
          "evalue": "'list' object has no attribute 'find_elements_by_xpath'",
          "traceback": [
            "\u001b[0;31m---------------------------------------------------------------------------\u001b[0m",
            "\u001b[0;31mAttributeError\u001b[0m                            Traceback (most recent call last)",
            "\u001b[0;32m~/Desktop/chromedriver\u001b[0m in \u001b[0;36m<module>\u001b[0;34m()\u001b[0m\n\u001b[1;32m      1\u001b[0m \u001b[0mtext\u001b[0m \u001b[0;34m=\u001b[0m \u001b[0mdriver\u001b[0m\u001b[0;34m.\u001b[0m\u001b[0mfind_elements_by_class_name\u001b[0m\u001b[0;34m(\u001b[0m\u001b[0;34m'WGvvNb'\u001b[0m\u001b[0;34m)\u001b[0m\u001b[0;34m\u001b[0m\u001b[0m\n\u001b[0;32m----> 2\u001b[0;31m \u001b[0mtext\u001b[0m\u001b[0;34m.\u001b[0m\u001b[0mfind_elements_by_xpath\u001b[0m\u001b[0;34m(\u001b[0m\u001b[0;34m'..'\u001b[0m\u001b[0;34m)\u001b[0m\u001b[0;34m.\u001b[0m\u001b[0mfind_elements_by_xpath\u001b[0m\u001b[0;34m(\u001b[0m\u001b[0;34m'..'\u001b[0m\u001b[0;34m)\u001b[0m\u001b[0;34m.\u001b[0m\u001b[0mget_attribute\u001b[0m\u001b[0;34m(\u001b[0m\u001b[0;34m'href'\u001b[0m\u001b[0;34m)\u001b[0m\u001b[0;34m\u001b[0m\u001b[0m\n\u001b[0m",
            "\u001b[0;31mAttributeError\u001b[0m: 'list' object has no attribute 'find_elements_by_xpath'"
          ]
        }
      ]
    },
    {
      "cell_type": "code",
      "metadata": {
        "id": "8iREsnujBfjK"
      },
      "source": [
        "#driver.find_elements_by_class_name('VFACy kGQAp')\n",
        "driver.find_element_by_class_name('WGvvNb').get_attribute('href')"
      ],
      "execution_count": null,
      "outputs": []
    },
    {
      "cell_type": "code",
      "metadata": {
        "id": "48CKGGBLBfjK",
        "outputId": "2729f5d5-3fa5-461a-b9fc-c82642f556ee"
      },
      "source": [
        "posts = driver.find_elements_by_class_name('fxgdke')\n",
        "for post in posts:\n",
        "    print(post.text)"
      ],
      "execution_count": null,
      "outputs": [
        {
          "output_type": "stream",
          "text": [
            "Free Elephant Image on Unsplash\n",
            "What's up, elephant!? - Alnasafi - Medium\n",
            "Here's A List Of The Top 10 Fastest ...\n",
            "Rhino poacher trampled to death by ...\n",
            "Wells County Republican Party\n",
            "Unsplash (Public Domain ...\n",
            "elephant Images on PicsArt\n",
            "Unsplash (Public Domain ...\n",
            "谁动了我的内存之PHP 内存溢出| wujunze`s ...\n",
            "Safari Tours & Kilimanjaro Climbing ...\n",
            "Wells County Republican Party\n",
            "Home | Cheche Winnie\n",
            "What's up, elephant!? - Alnasafi - Medium\n",
            "Free Elephant Image on Unsplash\n",
            "クラビのベストシーズンは？ハイシーズンはいつ ...\n",
            "bird and plant photos on Unsplash\n",
            "University Park Church of the Brethren ...\n",
            "10 Facts | Knowledge on Nature: Did You ...\n",
            "Score for Conditional Generative Models\n",
            "Free Elephant Image on Unsplash\n",
            "freetoedit - Image by rohitgupta7766\n",
            "Unsplash (Public Domain ...\n",
            "Boumba Bek National Park - National ...\n",
            "10 Most Intelligent Animals\n",
            "一头野生大象图片第10张尺寸:4912x3264 ...\n",
            "10 Best Things To Do In Thailand - Must ...\n",
            "ram goat photo – Free Animal Image on ...\n",
            "Wells County Republican Party\n",
            "black and white dog photo – Free Animal ...\n",
            "Animal Totem — Circle of Healing\n",
            "elephant Images on PicsArt\n",
            "Trending elefant Images on PicsArt\n",
            "The Newest elefante Images on PicsArt.\n",
            "The Elephant In The Room – Living in ...\n",
            "犀牛角偷猎者南非公园内被大象踩死遗体被 ...\n",
            "Rhinos Archives - Pakistan Today\n",
            "Safari Booking (Nairobi): AGGIORNATO ...\n",
            "RobinAge: News - Indian Species in the ...\n",
            "Family Asian Park Stock Photos And ...\n",
            "犀牛角偷猎者南非公园内被大象踩死遗体被狮子\n",
            "lesson Archives - ஒரு துளி\n"
          ],
          "name": "stdout"
        }
      ]
    },
    {
      "cell_type": "code",
      "metadata": {
        "id": "_sIz4QxNBfjK",
        "outputId": "344720e2-a0c4-4d0f-8808-da74f6e9adcd"
      },
      "source": [
        "import PIL.Image\n",
        "image = PIL.Image.open(filePathList[0])\n",
        "exif = image._getexif()\n",
        "print(exif)"
      ],
      "execution_count": null,
      "outputs": [
        {
          "output_type": "stream",
          "text": [
            "{36864: b'0221', 37377: (17, 2), 37378: (6, 1), 36867: '2008:09:13 14:36:47', 36868: '2008:09:13 14:36:47', 37380: (-1, 2), 40960: b'0100', 37383: 5, 40961: 1, 37385: 16, 37386: (105, 1), 40962: 1024, 40963: 576, 41990: 0, 41486: (83347, 27), 41487: (136017, 44), 41488: 2, 271: 'Canon', 272: 'Canon EOS 5D', 274: 1, 33434: (1, 350), 282: (72, 1), 283: (72, 1), 33437: (8, 1), 34850: 2, 41985: 0, 34855: 100, 262: 2, 34665: 206, 296: 2, 41986: 0, 41987: 0, 305: 'Aperture 3.3.2', 306: '2008:09:13 14:36:47'}\n"
          ],
          "name": "stdout"
        }
      ]
    },
    {
      "cell_type": "code",
      "metadata": {
        "id": "1kD0llnhBfjL",
        "outputId": "ed857668-1d0f-4923-9e41-a4c0b1fbc5fe"
      },
      "source": [
        "gpsinfo = {}\n",
        "for key in exif['GPSInfo'].keys():\n",
        "    decode = ExifTags.GPSTAGS.get(key,key)\n",
        "    gpsinfo[decode] = exif['GPSInfo'][key]\n",
        "print(gpsinfo)"
      ],
      "execution_count": null,
      "outputs": [
        {
          "output_type": "error",
          "ename": "KeyError",
          "evalue": "'GPSInfo'",
          "traceback": [
            "\u001b[0;31m---------------------------------------------------------------------------\u001b[0m",
            "\u001b[0;31mKeyError\u001b[0m                                  Traceback (most recent call last)",
            "\u001b[0;32m~/Desktop/chromedriver\u001b[0m in \u001b[0;36m<module>\u001b[0;34m()\u001b[0m\n\u001b[1;32m      1\u001b[0m \u001b[0mgpsinfo\u001b[0m \u001b[0;34m=\u001b[0m \u001b[0;34m{\u001b[0m\u001b[0;34m}\u001b[0m\u001b[0;34m\u001b[0m\u001b[0m\n\u001b[0;32m----> 2\u001b[0;31m \u001b[0;32mfor\u001b[0m \u001b[0mkey\u001b[0m \u001b[0;32min\u001b[0m \u001b[0mexif\u001b[0m\u001b[0;34m[\u001b[0m\u001b[0;34m'GPSInfo'\u001b[0m\u001b[0;34m]\u001b[0m\u001b[0;34m.\u001b[0m\u001b[0mkeys\u001b[0m\u001b[0;34m(\u001b[0m\u001b[0;34m)\u001b[0m\u001b[0;34m:\u001b[0m\u001b[0;34m\u001b[0m\u001b[0m\n\u001b[0m\u001b[1;32m      3\u001b[0m     \u001b[0mdecode\u001b[0m \u001b[0;34m=\u001b[0m \u001b[0mExifTags\u001b[0m\u001b[0;34m.\u001b[0m\u001b[0mGPSTAGS\u001b[0m\u001b[0;34m.\u001b[0m\u001b[0mget\u001b[0m\u001b[0;34m(\u001b[0m\u001b[0mkey\u001b[0m\u001b[0;34m,\u001b[0m\u001b[0mkey\u001b[0m\u001b[0;34m)\u001b[0m\u001b[0;34m\u001b[0m\u001b[0m\n\u001b[1;32m      4\u001b[0m     \u001b[0mgpsinfo\u001b[0m\u001b[0;34m[\u001b[0m\u001b[0mdecode\u001b[0m\u001b[0;34m]\u001b[0m \u001b[0;34m=\u001b[0m \u001b[0mexif\u001b[0m\u001b[0;34m[\u001b[0m\u001b[0;34m'GPSInfo'\u001b[0m\u001b[0;34m]\u001b[0m\u001b[0;34m[\u001b[0m\u001b[0mkey\u001b[0m\u001b[0;34m]\u001b[0m\u001b[0;34m\u001b[0m\u001b[0m\n\u001b[1;32m      5\u001b[0m \u001b[0mprint\u001b[0m\u001b[0;34m(\u001b[0m\u001b[0mgpsinfo\u001b[0m\u001b[0;34m)\u001b[0m\u001b[0;34m\u001b[0m\u001b[0m\n",
            "\u001b[0;31mKeyError\u001b[0m: 'GPSInfo'"
          ]
        }
      ]
    },
    {
      "cell_type": "code",
      "metadata": {
        "id": "wjHd8zNnBfjL",
        "outputId": "c3568d24-ffe7-4920-868a-95be393fb4a1"
      },
      "source": [
        "import exifread\n",
        "tags = exifread.process_file(open(filePathList[0], 'rb'))                                              \n",
        "geo = {i:tags[i] for i in tags.keys() if i.startswith('GPS')}\n",
        "geo"
      ],
      "execution_count": null,
      "outputs": [
        {
          "output_type": "execute_result",
          "data": {
            "text/plain": [
              "{}"
            ]
          },
          "metadata": {
            "tags": []
          },
          "execution_count": 103
        }
      ]
    },
    {
      "cell_type": "code",
      "metadata": {
        "id": "Z7nqE021BfjL",
        "colab": {
          "base_uri": "https://localhost:8080/"
        },
        "outputId": "a59a7dfd-bfe0-4264-fda1-4293cf49f91d"
      },
      "source": [
        "import datetime\n",
        "now = datetime.datetime.now()\n",
        "print(now.year)"
      ],
      "execution_count": null,
      "outputs": [
        {
          "output_type": "stream",
          "text": [
            "2020\n"
          ],
          "name": "stdout"
        }
      ]
    },
    {
      "cell_type": "code",
      "metadata": {
        "id": "dTGGx-t_BfjL"
      },
      "source": [
        "from tkinter import *\n",
        "\n",
        "window = tk.Tk()\n",
        "greeting = tk.Label(text=\"Hello, Tkinter\")\n",
        "greeting.pack()\n",
        "mainloop()"
      ],
      "execution_count": null,
      "outputs": []
    },
    {
      "cell_type": "code",
      "metadata": {
        "id": "8UghyvwBBfjL"
      },
      "source": [
        "master = Tk()\n",
        "Label(master,text='First Name').grid(row=0)\n",
        "Label(master,text='Last Name').grid(row=1)\n",
        "\n",
        "e1 = Entry(master)\n",
        "e2 = Entry(master)\n",
        "\n",
        "e1.grid(row=0, column=1)\n",
        "e2.grid(row=1, column=1)\n",
        "\n",
        "mainloop()"
      ],
      "execution_count": null,
      "outputs": []
    },
    {
      "cell_type": "code",
      "metadata": {
        "id": "WoDiVjKvBfjL"
      },
      "source": [
        "window = tk.Tk()\n",
        "\n",
        "label = tk.Label(text=\"Hello, Tkinter\", fg=\"white\", bg=\"black\", width=100, height=100)\n",
        "label.pack()\n",
        "\n",
        "entry = tk.Entry(fg=\"yellow\", bg=\"blue\", width=50)\n",
        "entry.pack()\n",
        "\n",
        "button = tk.Button(\n",
        "    text=\"Click me!\",\n",
        "    width=25,\n",
        "    height=5,\n",
        "    bg=\"blue\",\n",
        "    fg=\"yellow\",\n",
        ")\n",
        "button.pack()\n",
        "\n",
        "\n",
        "\n",
        "\n",
        "mainloop()\n",
        "\n"
      ],
      "execution_count": null,
      "outputs": []
    },
    {
      "cell_type": "code",
      "metadata": {
        "id": "qOpoeMJTBfjL"
      },
      "source": [
        "import tkinter as tk\n",
        "window = tk.Tk()\n",
        "label = tk.Label(text=\"Name\")\n",
        "entry = tk.Entry()\n",
        "\n",
        "label.pack()\n",
        "entry.pack()\n",
        "#mainloop()"
      ],
      "execution_count": null,
      "outputs": []
    },
    {
      "cell_type": "code",
      "metadata": {
        "id": "Xm-2nYQZBfjL"
      },
      "source": [
        "name = entry.get()\n"
      ],
      "execution_count": null,
      "outputs": []
    },
    {
      "cell_type": "code",
      "metadata": {
        "id": "11XVrTBtBfjL"
      },
      "source": [
        "import tkinter as tk\n",
        "\n",
        "master = tk.Tk()\n",
        "tk.Label(master, text=\"First Name\").grid(row=0)\n",
        "tk.Label(master, text=\"Last Name\").grid(row=1)\n",
        "\n",
        "e1 = tk.Entry(master)\n",
        "e2 = tk.Entry(master)\n",
        "\n",
        "e1.grid(row=0, column=1)\n",
        "e2.grid(row=1, column=1)\n",
        "\n",
        "master.mainloop()"
      ],
      "execution_count": null,
      "outputs": []
    },
    {
      "cell_type": "code",
      "metadata": {
        "id": "jUjOgdBoBfjL"
      },
      "source": [
        "import tkinter as tk\n",
        "\n",
        "def show_entry_fields():\n",
        "    print(\"First Name: %s\\nLast Name: %s\" % (e1.get(), e2.get()))\n",
        "\n",
        "master = tk.Tk()\n",
        "tk.Label(master, \n",
        "         text=\"First Name\").grid(row=0)\n",
        "tk.Label(master, \n",
        "         text=\"Last Name\").grid(row=1)\n",
        "\n",
        "e1 = tk.Entry(master)\n",
        "e2 = tk.Entry(master)\n",
        "\n",
        "e1.grid(row=0, column=1)\n",
        "e2.grid(row=1, column=1)\n",
        "\n",
        "tk.Button(master, \n",
        "          text='Quit', \n",
        "          command=master.quit).grid(row=3, \n",
        "                                    column=0, \n",
        "                                    sticky=tk.W, \n",
        "                                    pady=4)\n",
        "tk.Button(master, \n",
        "          text='Show', command=show_entry_fields).grid(row=3, \n",
        "                                                       column=1, \n",
        "                                                       sticky=tk.W, \n",
        "                                                       pady=4)\n",
        "\n",
        "tk.mainloop()"
      ],
      "execution_count": null,
      "outputs": []
    },
    {
      "cell_type": "code",
      "metadata": {
        "id": "e05CmbO-BfjL"
      },
      "source": [
        "'''\r\n",
        "This part is for combining kivy and code\r\n",
        "'''"
      ],
      "execution_count": null,
      "outputs": []
    },
    {
      "cell_type": "code",
      "metadata": {
        "id": "Qh7rLjZ30OKf"
      },
      "source": [
        "'''\r\n",
        "Part1: Search the image\r\n",
        "'''"
      ],
      "execution_count": null,
      "outputs": []
    },
    {
      "cell_type": "code",
      "metadata": {
        "id": "jPTZSFlA0VLR"
      },
      "source": [
        "'''\r\n",
        "Part2 : Do the online search\r\n",
        "'''"
      ],
      "execution_count": null,
      "outputs": []
    },
    {
      "cell_type": "code",
      "metadata": {
        "id": "JHSI2Up-0Ia-"
      },
      "source": [
        "from kivy.app import App\r\n",
        "from kivy.lang import Builder\r\n",
        "from kivy.uix.screenmanager import ScreenManager, Screen\r\n",
        "from kivy.uix.boxlayout import BoxLayout\r\n",
        "from kivy.uix.label import Label\r\n",
        "from kivy.uix.textinput import TextInput\r\n",
        "from kivy.properties import ObjectProperty, ListProperty, StringProperty\r\n",
        "from selenium import webdriver\r\n",
        "import time\r\n",
        "\r\n",
        "# Create screens\r\n",
        "Builder.load_file('main.kv')\r\n",
        "\r\n",
        "# Declare screens\r\n",
        "class MenuScreen(Screen):\r\n",
        "    pass\r\n",
        "\r\n",
        "\r\n",
        "class ImageScreen(Screen):\r\n",
        "    pass\r\n",
        "\r\n",
        "\r\n",
        "class SpeciesScreen(Screen):\r\n",
        "    pass\r\n",
        "\r\n",
        "\r\n",
        "class PlantSearch(Screen):\r\n",
        "    plant_name_text_input = ObjectProperty(None)\r\n",
        "    result_name_text_output = ObjectProperty(None)\r\n",
        "    binomial_name = StringProperty('')\r\n",
        "    result = ''\r\n",
        "    chromeDriverPath = r'd:\\chromedriver.exe'\r\n",
        "    option = webdriver.ChromeOptions()\r\n",
        "    option.add_argument('headless')\r\n",
        "    browser = webdriver.Chrome(chromeDriverPath, chrome_options=option)\r\n",
        "\r\n",
        "    def save_data(self):\r\n",
        "        self.binomial_name = self.plant_name_text_input.text\r\n",
        "        print(self.binomial_name)\r\n",
        "\r\n",
        "    def search_data(self):\r\n",
        "        self.browser.get('https://ipni.org/')\r\n",
        "\r\n",
        "        # click advanced search button\r\n",
        "        link = self.browser.find_element_by_xpath('//button[@aria-label=\"Advanced Search\"]')\r\n",
        "        link.click()\r\n",
        "\r\n",
        "        # Load panel\r\n",
        "        time.sleep(5)\r\n",
        "\r\n",
        "        # deal with cookie notification\r\n",
        "        try:\r\n",
        "            self.browser.find_element_by_xpath('/html/body/div[2]/a').click()\r\n",
        "        except:\r\n",
        "            pass\r\n",
        "\r\n",
        "        # entry into search boxes and search\r\n",
        "        genus = self.browser.find_element_by_id('genus')\r\n",
        "        species = self.browser.find_element_by_id('species')\r\n",
        "        year = self.browser.find_element_by_id('published-after')\r\n",
        "        genus.send_keys(self.binomial_name)\r\n",
        "        # species.send_keys(response)\r\n",
        "        year.send_keys('2018')\r\n",
        "\r\n",
        "        link = self.browser.find_element_by_xpath('//*[@id=\"plant\"]/form/button[1]')\r\n",
        "        link.click()\r\n",
        "\r\n",
        "        # Load results\r\n",
        "        time.sleep(3)\r\n",
        "\r\n",
        "        # Advanced search failed try direct search\r\n",
        "        try:\r\n",
        "            self.browser.find_element_by_class_name('no-results')\r\n",
        "            close = self.browser.find_elements_by_class_name('close')\r\n",
        "            close = close[:-1]\r\n",
        "            for item in close:\r\n",
        "                item.click()\r\n",
        "                time.sleep(0.5)\r\n",
        "            search = self.browser.find_element_by_id('search-tokenfield')\r\n",
        "            search.send_keys(self.binomial_name)\r\n",
        "            self.browser.find_element_by_id('search-button').click()\r\n",
        "            time.sleep(4)\r\n",
        "        except:\r\n",
        "            pass\r\n",
        "\r\n",
        "        nprint = True\r\n",
        "\r\n",
        "        # If both searches fail return \"No results.\"\r\n",
        "        try:\r\n",
        "            self.browser.find_element_by_class_name('no-results')\r\n",
        "            self.result = \"No results.\"\r\n",
        "            nprint = False\r\n",
        "\r\n",
        "        except:\r\n",
        "            pass\r\n",
        "\r\n",
        "        elements = self.browser.find_elements_by_class_name('list-group-item')\r\n",
        "        if nprint:\r\n",
        "            self.result = 'Results found for '\r\n",
        "            self.result += self.binomial_name\r\n",
        "            self.result += \".\"\r\n",
        "            self.result += '\\n'\r\n",
        "            #print('Results found for ' + self.binomial_name + \".\")\r\n",
        "        num = len(elements)\r\n",
        "        if num > 9:\r\n",
        "            self.result += 'Here are the top 10 results:'\r\n",
        "            self.result += '\\n'\r\n",
        "            #print('Here are the top 10 results:')\r\n",
        "        #print('')\r\n",
        "        num = 0\r\n",
        "        for i in elements:\r\n",
        "            self.result += i.text\r\n",
        "            self.result += '\\n'\r\n",
        "            #print(i.text)\r\n",
        "            #print('')\r\n",
        "            num += 1\r\n",
        "            if num == 10:\r\n",
        "                break\r\n",
        "            # GET LINKS\r\n",
        "\r\n",
        "        self.browser.close()\r\n",
        "\r\n",
        "    def print_result(self):\r\n",
        "        self.result_name_text_output.text = self.result\r\n",
        "        print(self.result)\r\n",
        "\r\n",
        "\r\n",
        "class ReptileSearch(Screen):\r\n",
        "    reptile_name_text_input = ObjectProperty(None)\r\n",
        "    result_name_text_output = ObjectProperty(None)\r\n",
        "    binomial_name = StringProperty('')\r\n",
        "    result = ''\r\n",
        "    chromeDriverPath = r'd:\\chromedriver.exe'\r\n",
        "    option = webdriver.ChromeOptions()\r\n",
        "    option.add_argument('headless')\r\n",
        "    browser = webdriver.Chrome(chromeDriverPath, chrome_options=option)\r\n",
        "    #browser = webdriver.Chrome(r'd:\\chromedriver.exe')\r\n",
        "\r\n",
        "    def save_data(self):\r\n",
        "        self.binomial_name = self.reptile_name_text_input.text\r\n",
        "        print(self.binomial_name)\r\n",
        "\r\n",
        "    def search_data(self):\r\n",
        "        self.browser.get('http://reptile-database.reptarium.cz/')\r\n",
        "        self.browser.find_element_by_link_text('Advanced search').click()\r\n",
        "\r\n",
        "        # Load panel\r\n",
        "        time.sleep(3)\r\n",
        "        genus = self.browser.find_element_by_xpath('//input[@name = \"genus\"]')\r\n",
        "        species = self.browser.find_element_by_xpath('//input[@name = \"species\"]')\r\n",
        "        year = self.browser.find_element_by_xpath('//input[@name = \"year\"]')\r\n",
        "\r\n",
        "        # try to fill in advanced search if the binomial is a 2-word input\r\n",
        "        if len(self.binomial_name) == 2:\r\n",
        "            genus.send_keys(self.binomial_name.split()[0])\r\n",
        "            species.send_keys(self.binomial_name.split()[1])\r\n",
        "        else:\r\n",
        "            genus.send_keys(self.binomial_name)\r\n",
        "        year.send_keys('2018 OR 2019 OR 2020')\r\n",
        "        self.browser.find_element_by_xpath('//input[@value = \"Search\"]').click()\r\n",
        "        time.sleep(3)\r\n",
        "\r\n",
        "        # Advanced search failed try direct search\r\n",
        "        try:\r\n",
        "            if self.browser.find_element_by_xpath('//div[@id = \"content\"]/p[1]').text == \"No species were found.\":\r\n",
        "                self.browser.find_element_by_link_text(\"home\").click()\r\n",
        "                time.sleep(3)\r\n",
        "                self.browser.find_element_by_xpath('//input[@name=\"search\"]').send_keys(self.binomial_name)\r\n",
        "                self.browser.find_element_by_xpath('//input[@value=\"Search\"]').click()\r\n",
        "                time.sleep(3)\r\n",
        "        except:\r\n",
        "            pass\r\n",
        "\r\n",
        "        nprint = True\r\n",
        "\r\n",
        "        # If both searches fail return \"No result.\"\r\n",
        "        try:\r\n",
        "            if self.browser.find_element_by_xpath('//div[@id=\"content\"]/p').text == \"No species were found.\":\r\n",
        "                self.result = 'No results.'\r\n",
        "                nprint = False\r\n",
        "        except:\r\n",
        "            pass\r\n",
        "\r\n",
        "        # try if there is a single result(new page pop up)\r\n",
        "        try:\r\n",
        "            if self.browser.find_element_by_xpath('//div[@id=\"content\"]/h1/em').text == self.binomial_name:\r\n",
        "                self.result = 'Results found for '\r\n",
        "                self.result += self.binomial_name\r\n",
        "                self.result += \".\"\r\n",
        "                self.result += '\\n'\r\n",
        "        except:\r\n",
        "            pass\r\n",
        "\r\n",
        "        # if multiple results, print top 10\r\n",
        "        elements = self.browser.find_elements_by_xpath('//div[@id=\"content\"]/ul[2]/li')\r\n",
        "        if nprint:\r\n",
        "            self.result = 'Results found for '\r\n",
        "            self.result += self.binomial_name\r\n",
        "            self.result += \".\"\r\n",
        "            self.result += '\\n'\r\n",
        "            #print('Results found for ' + self.binomial_name + \".\")\r\n",
        "        num = len(elements)\r\n",
        "        if num > 9:\r\n",
        "            self.result += 'Here are the top 10 results:'\r\n",
        "            self.result += '\\n'\r\n",
        "            #print('Here are the top 10 results:')\r\n",
        "        #print('')\r\n",
        "        num = 0\r\n",
        "        for i in elements:\r\n",
        "            self.result += i.text\r\n",
        "            self.result += '\\n'\r\n",
        "            #print(i.text)\r\n",
        "            #print('')\r\n",
        "            num += 1\r\n",
        "            if num == 10:\r\n",
        "                break\r\n",
        "            # GET LINKS\r\n",
        "\r\n",
        "        self.browser.close()\r\n",
        "\r\n",
        "\r\n",
        "\r\n",
        "    def print_result(self):\r\n",
        "        self.result_name_text_output.text = self.result\r\n",
        "        print(self.result)\r\n",
        "\r\n",
        "\r\n",
        "\r\n",
        "\r\n",
        "\r\n",
        "class AmphibianSearch(Screen):\r\n",
        "    amphibian_name_text_input = ObjectProperty(None)\r\n",
        "    result_name_text_output = ObjectProperty(None)\r\n",
        "    binomial_name = StringProperty('')\r\n",
        "    result = ''\r\n",
        "    chromeDriverPath = r'd:\\chromedriver.exe'\r\n",
        "    option = webdriver.ChromeOptions()\r\n",
        "    option.add_argument('headless')\r\n",
        "    browser = webdriver.Chrome(chromeDriverPath, chrome_options=option)\r\n",
        "\r\n",
        "    def save_data(self):\r\n",
        "        self.binomial_name = self.amphibian_name_text_input.text\r\n",
        "        print(self.binomial_name)\r\n",
        "\r\n",
        "    def search_data(self):\r\n",
        "        self.browser.get('https://amphibiaweb.org/')\r\n",
        "        self.browser.find_element_by_xpath('//input[@value=\"Search the Database\"]').click()\r\n",
        "\r\n",
        "        # Load panel\r\n",
        "        time.sleep(3)\r\n",
        "\r\n",
        "        name = self.browser.find_element_by_xpath(\r\n",
        "            '//*[@id=\"main\"]/table/tbody/tr/td/form/p/table[2]/tbody/tr[1]/td[3]/input')\r\n",
        "        name.send_keys(self.binomial_name)\r\n",
        "\r\n",
        "        search = self.browser.find_element_by_xpath(\r\n",
        "            '//*[@id=\"main\"]/table/tbody/tr/td/form/p/table[1]/tbody/tr/td[1]/input[1]')\r\n",
        "        search.click()\r\n",
        "        # Load page\r\n",
        "        time.sleep(3)\r\n",
        "\r\n",
        "        nprint = True\r\n",
        "\r\n",
        "        # try if there is no result\r\n",
        "        try:\r\n",
        "            if self.browser.find_element_by_xpath(\r\n",
        "                    '//html/body/blockquote/h2').text == \"Sorry - no matches. Please try again.\":\r\n",
        "                self.result = 'No results.'\r\n",
        "                nprint = False\r\n",
        "        except:\r\n",
        "            pass\r\n",
        "\r\n",
        "        # try if there is a single result\r\n",
        "        try:\r\n",
        "            getName = self.browser.find_element_by_xpath('/html[1]/body[1]/table[1]/tbody[1]'\r\n",
        "                                                    '/tr[2]/td[2]/div[1]/table[1]/tbody[1]/tr[2]/td[1]/i[1]/font[1]').text\r\n",
        "            if getName == self.binomial_name:\r\n",
        "                self.result = 'Results found for '\r\n",
        "                self.result += self.binomial_name\r\n",
        "                self.result += \".\"\r\n",
        "\r\n",
        "        except:\r\n",
        "            pass\r\n",
        "\r\n",
        "        # if multiple results, print top 10\r\n",
        "        elements = self.browser.find_elements_by_xpath('//div[@id=\"main\"]/p[4]/table/tbody/tr/td[1]/a')\r\n",
        "        if nprint:\r\n",
        "            self.result = 'Results found for '\r\n",
        "            self.result += self.binomial_name\r\n",
        "            self.result += \".\"\r\n",
        "            self.result += '\\n'\r\n",
        "        num = len(elements)\r\n",
        "        if num > 9:\r\n",
        "            self.result += 'Here are the top 10 results:'\r\n",
        "            self.result += '\\n'\r\n",
        "            # print('Here are the top 10 results:')\r\n",
        "            # print('')\r\n",
        "        num = 0\r\n",
        "        for i in elements:\r\n",
        "            self.result += i.text\r\n",
        "            self.result += '\\n'\r\n",
        "            # print(i.text)\r\n",
        "            # print('')\r\n",
        "            num += 1\r\n",
        "            if num == 10:\r\n",
        "                break\r\n",
        "            # GET LINKS\r\n",
        "\r\n",
        "        self.browser.close()\r\n",
        "\r\n",
        "    def print_result(self):\r\n",
        "        self.result_name_text_output.text = self.result\r\n",
        "        print(self.result)\r\n",
        "\r\n",
        "\r\n",
        "class FilepathScreen(Screen):\r\n",
        "    def build(self):\r\n",
        "        return GetFilepath()\r\n",
        "\r\n",
        "\r\n",
        "class GetFilepath(BoxLayout):\r\n",
        "    def get_filepath(self, **kwargs):\r\n",
        "        super(GetFilepath, self).get_filepath(**kwargs)\r\n",
        "        self.orientation = \"vertical\"\r\n",
        "        my_user_input = TextInput()\r\n",
        "        self.add_widget(my_user_input)\r\n",
        "        filepath = Label(text=\"initial value\")\r\n",
        "        self.add_widget(filepath)\r\n",
        "\r\n",
        "        def callback(instance, value):\r\n",
        "            filepath.text = value\r\n",
        "\r\n",
        "        my_user_input.bind(text=callback)\r\n",
        "\r\n",
        "\r\n",
        "class SearchApp(App):\r\n",
        "    title = 'Search App'\r\n",
        "    pass\r\n",
        "\r\n",
        "    def build(self):\r\n",
        "        # Create the screen manager\r\n",
        "        sm = ScreenManager()\r\n",
        "        sm.add_widget(MenuScreen(name='menu'))\r\n",
        "        sm.add_widget(ImageScreen(name='image'))\r\n",
        "        sm.add_widget(SpeciesScreen(name='species'))\r\n",
        "        sm.add_widget(PlantSearch(name='plant'))\r\n",
        "        sm.add_widget(ReptileSearch(name='reptile'))\r\n",
        "        sm.add_widget(AmphibianSearch(name='amphibian'))\r\n",
        "        sm.add_widget(FilepathScreen(name='filepaths'))\r\n",
        "\r\n",
        "        return sm\r\n",
        "\r\n",
        "\r\n",
        "if __name__ == '__main__':\r\n",
        "    SearchApp().run()"
      ],
      "execution_count": null,
      "outputs": []
    },
    {
      "cell_type": "code",
      "metadata": {
        "id": "pXTQ0dD10az2"
      },
      "source": [
        "'''\r\n",
        "The main.kv file\r\n",
        "'''\r\n"
      ],
      "execution_count": null,
      "outputs": []
    },
    {
      "cell_type": "code",
      "metadata": {
        "id": "eFQNIz6x0eZb"
      },
      "source": [
        "<MenuScreen>:\r\n",
        "    BoxLayout:\r\n",
        "        Button:\r\n",
        "            text: 'Search Image'\r\n",
        "            on_press: root.manager.current = 'image'\r\n",
        "        Button:\r\n",
        "            text: 'Search Species'\r\n",
        "            on_press: root.manager.current = 'species'\r\n",
        "\r\n",
        "<SpeciesScreen>:\r\n",
        "    BoxLayout:\r\n",
        "        Button:\r\n",
        "            text: 'PLANT'\r\n",
        "            on_press: root.manager.current = 'plant'\r\n",
        "        Button:\r\n",
        "            text: 'REPTILE'\r\n",
        "            on_press: root.manager.current = 'reptile'\r\n",
        "        Button:\r\n",
        "            text: 'AMPHIBIAN'\r\n",
        "            on_press: root.manager.current = 'amphibian'\r\n",
        "        Button:\r\n",
        "            text: 'Back to menu'\r\n",
        "            on_press: root.manager.current = 'menu'\r\n",
        "\r\n",
        "<ImageScreen>:\r\n",
        "    BoxLayout:\r\n",
        "        Button:\r\n",
        "            text: 'Please enter the filepath of the directory.'\r\n",
        "            on_press: root.manager.current = 'filepaths'\r\n",
        "        Button:\r\n",
        "            text: 'Back to menu'\r\n",
        "            on_press: root.manager.current = 'menu'\r\n",
        "\r\n",
        "<PlantSearch>:\r\n",
        "    plant_name_text_input: plant_name\r\n",
        "    result_name_text_output: result_list\r\n",
        "    BoxLayout:\r\n",
        "        Label:\r\n",
        "            text: \"Plant Name:\"\r\n",
        "\r\n",
        "        TextInput:\r\n",
        "            id: plant_name\r\n",
        "            multiline: False\r\n",
        "\r\n",
        "        TextInput:\r\n",
        "            id: result_list\r\n",
        "            text: 'Please type the plant name'\r\n",
        "            multiline: True\r\n",
        "\r\n",
        "\r\n",
        "        Button:\r\n",
        "            text: 'Back to menu'\r\n",
        "            on_press: root.manager.current = 'menu'\r\n",
        "\r\n",
        "        Button:\r\n",
        "            text: \"Search the Data\"\r\n",
        "            on_press: root.save_data()\r\n",
        "            on_release: root.search_data()\r\n",
        "\r\n",
        "        Button:\r\n",
        "            text: \"Print Result\"\r\n",
        "            on_release: root.print_result()\r\n",
        "\r\n",
        "\r\n",
        "\r\n",
        "\r\n",
        "<ReptileSearch>:\r\n",
        "    reptile_name_text_input: reptile_name\r\n",
        "    result_name_text_output: result_list\r\n",
        "    BoxLayout:\r\n",
        "    BoxLayout:\r\n",
        "        Label:\r\n",
        "            text: \"Reptile Name:\"\r\n",
        "\r\n",
        "        TextInput:\r\n",
        "            id: reptile_name\r\n",
        "            multiline: False\r\n",
        "\r\n",
        "        TextInput:\r\n",
        "            id: result_list\r\n",
        "            text: 'Please type the reptile name'\r\n",
        "            multiline: True\r\n",
        "\r\n",
        "\r\n",
        "        Button:\r\n",
        "            text: 'Back to menu'\r\n",
        "            on_press: root.manager.current = 'menu'\r\n",
        "\r\n",
        "        Button:\r\n",
        "            text: \"Search the Data\"\r\n",
        "            on_press: root.save_data()\r\n",
        "            on_release: root.search_data()\r\n",
        "\r\n",
        "        Button:\r\n",
        "            text: \"Print Result\"\r\n",
        "            on_release: root.print_result()\r\n",
        "\r\n",
        "        Button:\r\n",
        "            text: 'Back to menu'\r\n",
        "            on_press: root.manager.current = 'menu'\r\n",
        "\r\n",
        "<AmphibianSearch>:\r\n",
        "    amphibian_name_text_input: amphibian_name\r\n",
        "    result_name_text_output: result_list\r\n",
        "    BoxLayout:\r\n",
        "    BoxLayout:\r\n",
        "        Label:\r\n",
        "            text: \"Amphibian Name:\"\r\n",
        "\r\n",
        "        TextInput:\r\n",
        "            id: amphibian_name\r\n",
        "            multiline: False\r\n",
        "\r\n",
        "        TextInput:\r\n",
        "            id: result_list\r\n",
        "            text: 'Please type the amphibian name'\r\n",
        "            multiline: True\r\n",
        "\r\n",
        "\r\n",
        "        Button:\r\n",
        "            text: 'Back to menu'\r\n",
        "            on_press: root.manager.current = 'menu'\r\n",
        "\r\n",
        "        Button:\r\n",
        "            text: \"Search the Data\"\r\n",
        "            on_press: root.save_data()\r\n",
        "            on_release: root.search_data()\r\n",
        "\r\n",
        "        Button:\r\n",
        "            text: \"Print Result\"\r\n",
        "            on_release: root.print_result()\r\n",
        "\r\n",
        "        Button:\r\n",
        "            text: 'Back to menu'\r\n",
        "            on_press: root.manager.current = 'menu'"
      ],
      "execution_count": null,
      "outputs": []
    }
  ]
}